{
  "nbformat": 4,
  "nbformat_minor": 0,
  "metadata": {
    "colab": {
      "name": "MiniProject 3.ipynb",
      "provenance": [],
      "collapsed_sections": [],
      "toc_visible": true,
      "machine_shape": "hm",
      "include_colab_link": true
    },
    "kernelspec": {
      "name": "python3",
      "display_name": "Python 3"
    },
    "accelerator": "GPU"
  },
  "cells": [
    {
      "cell_type": "markdown",
      "metadata": {
        "id": "view-in-github",
        "colab_type": "text"
      },
      "source": [
        "<a href=\"https://colab.research.google.com/github/hongkuntian/comp551-applied-machine-learning/blob/master/project3/miniproject3.ipynb\" target=\"_parent\"><img src=\"https://colab.research.google.com/assets/colab-badge.svg\" alt=\"Open In Colab\"/></a>"
      ]
    },
    {
      "cell_type": "markdown",
      "metadata": {
        "id": "8RVTfFM2hOfN",
        "colab_type": "text"
      },
      "source": [
        "# MiniProject 3: Classification of Image Data\n",
        "\n",
        "Group 101\n",
        "\n",
        "* Romanov, Dima  (260831349)\n",
        "* Shao, Jia Rong (260867038)\n",
        "* Tian, Hong Kun (260866355)"
      ]
    },
    {
      "cell_type": "code",
      "metadata": {
        "id": "kSHFsht8_z79",
        "colab_type": "code",
        "outputId": "927d91db-ef6c-4de2-9bdd-001602d5cd07",
        "colab": {
          "base_uri": "https://localhost:8080/",
          "height": 51
        }
      },
      "source": [
        "import matplotlib.pyplot as plt\n",
        "import seaborn as sns\n",
        "import numpy as np\n",
        "\n",
        "import torch\n",
        "import torchvision\n",
        "import torchvision.transforms as transforms\n",
        "import torch.nn as nn\n",
        "import torch.nn.functional as F\n",
        "import torch.optim as optim\n",
        "from torch.utils.data.sampler import SubsetRandomSampler\n",
        "\n",
        "import os\n",
        "import glob\n",
        "import math\n",
        "\n",
        "SEED = 551\n",
        "\n",
        "sns.set_palette('muted')\n",
        "\n",
        "# Set seed for random actions, so that code behaviour is replicable\n",
        "np.random.seed(SEED)\n",
        "torch.manual_seed(SEED)\n",
        "torch.cuda.manual_seed_all(SEED)\n",
        "torch.backends.cudnn.deterministic = True"
      ],
      "execution_count": 0,
      "outputs": [
        {
          "output_type": "stream",
          "text": [
            "/usr/local/lib/python3.6/dist-packages/statsmodels/tools/_testing.py:19: FutureWarning: pandas.util.testing is deprecated. Use the functions in the public API at pandas.testing instead.\n",
            "  import pandas.util.testing as tm\n"
          ],
          "name": "stderr"
        }
      ]
    },
    {
      "cell_type": "code",
      "metadata": {
        "id": "U6EtayaeO7Xh",
        "colab_type": "code",
        "outputId": "47727d95-9c81-4a0c-ce49-4c34c5eff651",
        "colab": {
          "base_uri": "https://localhost:8080/",
          "height": 34
        }
      },
      "source": [
        "# Set device\n",
        "device = torch.device(\"cuda:0\" if torch.cuda.is_available() else \"cpu\")\n",
        "print(device)"
      ],
      "execution_count": 0,
      "outputs": [
        {
          "output_type": "stream",
          "text": [
            "cuda:0\n"
          ],
          "name": "stdout"
        }
      ]
    },
    {
      "cell_type": "code",
      "metadata": {
        "id": "7ET0P6x5iDMU",
        "colab_type": "code",
        "outputId": "e3be95fe-4f33-418a-a2d3-f65ef104ebf6",
        "colab": {
          "base_uri": "https://localhost:8080/",
          "height": 34
        }
      },
      "source": [
        "from google.colab import drive\n",
        "drive.mount('/content/drive')"
      ],
      "execution_count": 0,
      "outputs": [
        {
          "output_type": "stream",
          "text": [
            "Drive already mounted at /content/drive; to attempt to forcibly remount, call drive.mount(\"/content/drive\", force_remount=True).\n"
          ],
          "name": "stdout"
        }
      ]
    },
    {
      "cell_type": "code",
      "metadata": {
        "id": "SDDGnB48jEbH",
        "colab_type": "code",
        "colab": {}
      },
      "source": [
        "save_path = '/content/drive/My Drive/'"
      ],
      "execution_count": 0,
      "outputs": []
    },
    {
      "cell_type": "markdown",
      "metadata": {
        "id": "XY1CXFDti5CB",
        "colab_type": "text"
      },
      "source": [
        "## Preprocessing"
      ]
    },
    {
      "cell_type": "code",
      "metadata": {
        "id": "JRRtSTryHTGu",
        "colab_type": "code",
        "colab": {}
      },
      "source": [
        "n_batch = 64\n",
        "validation_size = 0.2 # proportion of the training that will be allocated to validation\n",
        "                      # (since CIFAR10 does not have a provided validation set)"
      ],
      "execution_count": 0,
      "outputs": []
    },
    {
      "cell_type": "code",
      "metadata": {
        "id": "KpccnLheFnHY",
        "colab_type": "code",
        "colab": {}
      },
      "source": [
        "# Set transforms for training (Including a few data augmentation transforms, such as RandomCrop, RandomHorizontalFlip, RandomRotation)\n",
        "train_transform = transforms.Compose([\n",
        "    transforms.RandomCrop(32, padding=4),\n",
        "    transforms.RandomHorizontalFlip(),\n",
        "    transforms.RandomRotation((-20,20)),\n",
        "    transforms.ToTensor(),\n",
        "    transforms.Normalize((0.5, 0.5, 0.5), (0.5, 0.5, 0.5)),\n",
        "])\n",
        "\n",
        "# Set transform for test set\n",
        "transform = transforms.Compose(\n",
        "    [transforms.ToTensor(),\n",
        "     transforms.Normalize((0.5, 0.5, 0.5), (0.5, 0.5, 0.5))])"
      ],
      "execution_count": 0,
      "outputs": []
    },
    {
      "cell_type": "code",
      "metadata": {
        "id": "Z7TaG01ZAKTn",
        "colab_type": "code",
        "outputId": "36072d9c-0045-4ffb-eaeb-849b25be4d5f",
        "colab": {
          "base_uri": "https://localhost:8080/",
          "height": 85
        }
      },
      "source": [
        "# Train/validation sets\n",
        "trainset_no_aug = torchvision.datasets.CIFAR10(root='./data', train=True,\n",
        "                                        download=True, transform=transform)\n",
        "trainset = torchvision.datasets.CIFAR10(root='./data', train=True,\n",
        "                                        download=True, transform=train_transform)\n",
        "validset = torchvision.datasets.CIFAR10(root='./data', train=True,\n",
        "                                        download=True, transform=transform)\n",
        "# Use SubsetRandomSampler to separate into train/validation\n",
        "set_size = len(trainset)\n",
        "indices = list(range(set_size))\n",
        "split = int(np.floor(validation_size * set_size))\n",
        "\n",
        "np.random.shuffle(indices)\n",
        "\n",
        "train_idx, valid_idx = indices[split:], indices[:split]\n",
        "\n",
        "train_sampler = SubsetRandomSampler(train_idx)\n",
        "valid_sampler = SubsetRandomSampler(valid_idx)\n",
        "\n",
        "no_aug_train_loader = torch.utils.data.DataLoader(trainset_no_aug, batch_size=n_batch,\n",
        "                                          sampler=train_sampler, num_workers=4)\n",
        "trainloader = torch.utils.data.DataLoader(trainset, batch_size=n_batch,\n",
        "                                          sampler=train_sampler, num_workers=4)\n",
        "validloader = torch.utils.data.DataLoader(validset, batch_size=n_batch,\n",
        "                                          sampler=valid_sampler, num_workers=4)\n",
        "\n",
        "# Test set\n",
        "testset = torchvision.datasets.CIFAR10(root='./data', train=False,\n",
        "                                       download=True, transform=transform)\n",
        "testloader = torch.utils.data.DataLoader(testset, batch_size=n_batch,\n",
        "                                         shuffle=False, num_workers=4)\n",
        "\n",
        "classes = ('plane', 'car', 'bird', 'cat',\n",
        "           'deer', 'dog', 'frog', 'horse', 'ship', 'truck')"
      ],
      "execution_count": 0,
      "outputs": [
        {
          "output_type": "stream",
          "text": [
            "Files already downloaded and verified\n",
            "Files already downloaded and verified\n",
            "Files already downloaded and verified\n",
            "Files already downloaded and verified\n"
          ],
          "name": "stdout"
        }
      ]
    },
    {
      "cell_type": "code",
      "metadata": {
        "id": "C3X90QVAAPRE",
        "colab_type": "code",
        "colab": {}
      },
      "source": [
        "def imshow(img):\n",
        "    img = img / 2 + 0.5     # unnormalize\n",
        "    npimg = img.numpy()\n",
        "    plt.imshow(np.transpose(npimg, (1, 2, 0)))\n",
        "    plt.show()"
      ],
      "execution_count": 0,
      "outputs": []
    },
    {
      "cell_type": "markdown",
      "metadata": {
        "colab_type": "text",
        "id": "gOB2K3hikEvG"
      },
      "source": [
        "Augmented training images\n"
      ]
    },
    {
      "cell_type": "code",
      "metadata": {
        "colab_type": "code",
        "outputId": "f104d0cf-33db-4b5b-c0ce-3f1554eeb441",
        "id": "xP--7oO1kEvH",
        "colab": {
          "base_uri": "https://localhost:8080/",
          "height": 213
        }
      },
      "source": [
        "# get some random training images\n",
        "dataiter = iter(trainloader)\n",
        "images, labels = dataiter.next()\n",
        "\n",
        "# show images\n",
        "fig = plt.figure(figsize=(20,5))\n",
        "imshow(torchvision.utils.make_grid(images[:8]))\n",
        "# print labels\n",
        "print('\\t'+'\\t\\t  '.join('%5s' % classes[labels[j]] for j in range(8)))"
      ],
      "execution_count": 0,
      "outputs": [
        {
          "output_type": "display_data",
          "data": {
            "image/png": "[encoded data removed]",
            "text/plain": [
              "<Figure size 1440x360 with 1 Axes>"
            ]
          },
          "metadata": {
            "tags": [],
            "needs_background": "light"
          }
        },
        {
          "output_type": "stream",
          "text": [
            "\t bird\t\t   bird\t\t    car\t\t  horse\t\t    cat\t\t  plane\t\t   deer\t\t    cat\n"
          ],
          "name": "stdout"
        }
      ]
    },
    {
      "cell_type": "markdown",
      "metadata": {
        "id": "VIUdDOAQj8OK",
        "colab_type": "text"
      },
      "source": [
        "Non-augmented training images"
      ]
    },
    {
      "cell_type": "code",
      "metadata": {
        "id": "DC-61AQKAQvQ",
        "colab_type": "code",
        "outputId": "d1448792-9387-4cf3-c410-658cc50fdc29",
        "colab": {
          "base_uri": "https://localhost:8080/",
          "height": 213
        }
      },
      "source": [
        "# get some random training images\n",
        "dataiter = iter(no_aug_train_loader)\n",
        "images, labels = dataiter.next()\n",
        "\n",
        "# show images\n",
        "fig = plt.figure(figsize=(20,5))\n",
        "imshow(torchvision.utils.make_grid(images[:8]))\n",
        "# print labels\n",
        "print('\\t'+'\\t\\t  '.join('%5s' % classes[labels[j]] for j in range(8)))"
      ],
      "execution_count": 0,
      "outputs": [
        {
          "output_type": "display_data",
          "data": {
            "image/png": "[encoded data removed]",
            "text/plain": [
              "<Figure size 1440x360 with 1 Axes>"
            ]
          },
          "metadata": {
            "tags": [],
            "needs_background": "light"
          }
        },
        {
          "output_type": "stream",
          "text": [
            "\t deer\t\t   bird\t\t   deer\t\t   frog\t\t   bird\t\t   deer\t\t  horse\t\t  horse\n"
          ],
          "name": "stdout"
        }
      ]
    },
    {
      "cell_type": "markdown",
      "metadata": {
        "id": "B1JKzP3wi9pg",
        "colab_type": "text"
      },
      "source": [
        "## Convolutional Neural Network (CNN)"
      ]
    },
    {
      "cell_type": "markdown",
      "metadata": {
        "id": "-lYhY-zXjP2F",
        "colab_type": "text"
      },
      "source": [
        "### Model definition"
      ]
    },
    {
      "cell_type": "code",
      "metadata": {
        "id": "-9aVmwfzAQ_2",
        "colab_type": "code",
        "colab": {}
      },
      "source": [
        "class Net(nn.Module):\n",
        "    def __init__(self):\n",
        "        super(Net, self).__init__()\n",
        "\n",
        "        self.conv1 = nn.Conv2d(3, 64, 3)\n",
        "        self.bn_conv1 = nn.BatchNorm2d(64)\n",
        "\n",
        "        self.conv2 = nn.Conv2d(64, 128, 3)\n",
        "        self.bn_conv2 = nn.BatchNorm2d(128)\n",
        "        \n",
        "        self.pool = nn.MaxPool2d(2, 2)\n",
        "\n",
        "        # output_size = (Width - Filter(kernel_size) + 2*Padding) / Stride + 1\n",
        "        # output_size = (32 - 3 + 0) / 1 + 1 = 30\n",
        "        # >>> (64, 30, 30)\n",
        "        # output_size = (30 - 3 + 0) / 1 + 1 = 28\n",
        "        # >>> (128, 30, 30)\n",
        "        # after pooling:\n",
        "        # >>> (128, 14, 14)\n",
        "\n",
        "        self.conv3 = nn.Conv2d(128, 256, 3, padding=1)\n",
        "        self.bn_conv3 = nn.BatchNorm2d(256)\n",
        "\n",
        "        self.conv4 = nn.Conv2d(256, 512, 3)\n",
        "        self.bn_conv4 = nn.BatchNorm2d(512)\n",
        "\n",
        "\n",
        "        # output_size = (14 - 3 + 2*1) / 1 + 1 = 14\n",
        "        # >>> (256, 14, 14)\n",
        "        # output_size = (14 - 3 + 0) / 1 + 1 = 12\n",
        "        # >>> (512, 12, 12)\n",
        "        # after pooling:\n",
        "        # >>> (512, 6, 6)\n",
        "\n",
        "        self.conv5 = nn.Conv2d(512, 1024, 3)\n",
        "        self.bn_conv5 = nn.BatchNorm2d(1024)\n",
        "\n",
        "        self.conv6 = nn.Conv2d(1024, 2048, 3)\n",
        "        self.bn_conv6 = nn.BatchNorm2d(2048)\n",
        "        \n",
        "        # output_size = (6 - 3 + 0) / 1 + 1 = 4\n",
        "        # >>> (1024, 4, 4)\n",
        "        # output_size = (4 - 3 + 0) / 1 + 1 = 2\n",
        "        # >>> (2048, 2, 2)\n",
        "        # after pooling:\n",
        "        # >>> (2048, 1, 1)\n",
        "\n",
        "        self.fc1 = nn.Linear(2048 * 1 * 1, 512)\n",
        "        self.bn_fc1 = nn.BatchNorm1d(512)\n",
        "        self.fc2 = nn.Linear(512, 512)\n",
        "        self.bn_fc2 = nn.BatchNorm1d(512)\n",
        "        self.fc3 = nn.Linear(512, 10)\n",
        "\n",
        "    def forward(self, x):\n",
        "        x = F.relu(self.bn_conv1(self.conv1(x)))\n",
        "        x = self.pool(F.relu(self.bn_conv2(self.conv2(x))))\n",
        "        x = F.relu(self.bn_conv3(self.conv3(x)))\n",
        "        x = self.pool(F.relu(self.bn_conv4(self.conv4(x))))\n",
        "        x = F.relu(self.bn_conv5(self.conv5(x)))\n",
        "        x = self.pool(F.relu(self.bn_conv6(self.conv6(x))))\n",
        "        x = x.view(x.size(0), -1)\n",
        "        x = F.relu(self.bn_fc1(self.fc1(x)))\n",
        "        x = F.relu(self.bn_fc1(self.fc2(x)))\n",
        "        x = self.fc3(x)\n",
        "        return x"
      ],
      "execution_count": 0,
      "outputs": []
    },
    {
      "cell_type": "markdown",
      "metadata": {
        "id": "oiojMALxjUMk",
        "colab_type": "text"
      },
      "source": [
        "### Training helper functions"
      ]
    },
    {
      "cell_type": "code",
      "metadata": {
        "id": "zy7jA3sqnf20",
        "colab_type": "code",
        "colab": {}
      },
      "source": [
        "def evaluate_model(dataloader):\n",
        "    net.eval()\n",
        "\n",
        "    correct = 0\n",
        "    total = 0\n",
        "    loss = 0\n",
        "    \n",
        "    with torch.no_grad():\n",
        "        for data in dataloader:\n",
        "            inputs, labels = data[0].to(device), data[1].to(device)\n",
        "            outputs = net(inputs)\n",
        "            loss += criterion(outputs, labels).item()\n",
        "            _, predicted = torch.max(outputs.data, 1)\n",
        "            total += labels.size(0)\n",
        "            correct += (predicted == labels).sum().item()\n",
        "\n",
        "    return correct, total, loss / len(dataloader)"
      ],
      "execution_count": 0,
      "outputs": []
    },
    {
      "cell_type": "code",
      "metadata": {
        "id": "ggYpy0gyNePU",
        "colab_type": "code",
        "colab": {}
      },
      "source": [
        "def train_net(training_loader, n_epochs, save_snapshot_every=10, patience=10):\n",
        "\n",
        "    global net, accuracies, losses, running_losses\n",
        "    best_valid_loss = float('inf')\n",
        "    best_valid_epoch = 0\n",
        "    patience_count = 0\n",
        "\n",
        "    for epoch in range(n_epochs):  # loop over the dataset multiple times\n",
        "\n",
        "        running_loss = 0.0\n",
        "        # train_total = 0\n",
        "        # train_correct = 0\n",
        "        for i, data in enumerate(training_loader, 0):\n",
        "\n",
        "            # set model to training mode\n",
        "            net.train()\n",
        "\n",
        "            # get the inputs; data is a list of [inputs, labels]\n",
        "            inputs, labels = data[0].to(device), data[1].to(device)\n",
        "\n",
        "            # zero the parameter gradients\n",
        "            optimizer.zero_grad()\n",
        "\n",
        "            # forward + backward + optimize\n",
        "            outputs = net(inputs)\n",
        "            loss = criterion(outputs, labels)\n",
        "            loss.backward()\n",
        "            optimizer.step()\n",
        "\n",
        "            running_loss += loss.item()\n",
        "            \n",
        "        # print statistic and perform checks at the end of each epoch\n",
        "        # set model to evaluation mode\n",
        "        net.eval()\n",
        "\n",
        "        # print statistics\n",
        "        train_correct, train_total, train_loss = evaluate_model(training_loader)\n",
        "        valid_correct, valid_total, valid_loss = evaluate_model(validloader)\n",
        "        test_correct, test_total, test_loss = evaluate_model(testloader)\n",
        "        \n",
        "        train_acc = 100.0 * train_correct / train_total\n",
        "        valid_acc = 100.0 * valid_correct / valid_total\n",
        "        test_acc = 100.0 * test_correct / test_total\n",
        "\n",
        "        accuracies.append([train_acc, valid_acc, test_acc])\n",
        "        losses.append([train_loss, valid_loss, test_loss])\n",
        "        running_losses.append([running_loss / len(training_loader)])\n",
        "\n",
        "        print('[%3d, %4d] running loss: %2.3f    train_acc: %2.3f  valid_acc: %2.3f    train_loss: %1.3f  valid_loss: %1.3f' %\n",
        "              (epoch + 1, i + 1, running_loss / len(training_loader), train_acc, valid_acc, train_loss, valid_loss))\n",
        "\n",
        "        # increment patience counter\n",
        "        patience_count += 1\n",
        "\n",
        "        # save model every [save_snapshot_every] number of epochs\n",
        "        if epoch % save_snapshot_every == 0 and epoch != 0:\n",
        "\n",
        "            # delete existing snapshot of this epoch\n",
        "            for f in glob.glob('snapshot_epoch_{}_model'.format(epoch)+'*'):\n",
        "                os.remove(f)\n",
        "            \n",
        "            # save model, delete previous best\n",
        "            torch.save(net, 'snapshot_epoch_{}_model.pt'.format(epoch))\n",
        "        \n",
        "        # update snapshot of model that achieves best validation loss\n",
        "        if valid_loss < best_valid_loss:\n",
        "\n",
        "            # model found with better validation accuracy\n",
        "            best_valid_loss = valid_loss\n",
        "            best_valid_epoch = epoch + 1\n",
        "            snapshot_prefix = os.path.join(save_path, 'best_snapshot')\n",
        "            snapshot_path = snapshot_prefix + '_valloss_{}_epoch_{}_model.pt'.format(valid_loss, epoch + 1)\n",
        "\n",
        "            # save model, delete previous 'best_snapshot' files\n",
        "            torch.save(net, snapshot_path)\n",
        "            for f in glob.glob(snapshot_prefix + '_valloss_*'):\n",
        "                if f != snapshot_path:\n",
        "                    os.remove(f)\n",
        "\n",
        "            # reset patience counter\n",
        "            patience_count = 0\n",
        "        \n",
        "        # reached early stopping point (no improvement of valid loss after [patience] number of epochs)\n",
        "        if patience_count >= patience:\n",
        "            \n",
        "            # revert model to best valid loss snapshot, since that is the best loss achieved\n",
        "            snapshot_prefix = os.path.join(save_path, 'best_snapshot')\n",
        "            snapshot_path = snapshot_prefix + '_valloss_{}_epoch_{}_model.pt'.format(best_valid_loss, best_valid_epoch)\n",
        "            net = torch.load(snapshot_path, map_location=torch.device(device))\n",
        "\n",
        "            print('Stopped Early')\n",
        "            print('Model reverted to snapshot after epoch {} that achieved lowest validation loss at {}'.format(best_valid_epoch, best_valid_loss))\n",
        "\n",
        "            return\n",
        "\n",
        "    print('Finished Training')"
      ],
      "execution_count": 0,
      "outputs": []
    },
    {
      "cell_type": "markdown",
      "metadata": {
        "id": "dVQFUBnMJAVS",
        "colab_type": "text"
      },
      "source": [
        "### Models training\n"
      ]
    },
    {
      "cell_type": "markdown",
      "metadata": {
        "id": "Xqsnl-qzJhiP",
        "colab_type": "text"
      },
      "source": [
        "#### With training data augmentation\n"
      ]
    },
    {
      "cell_type": "code",
      "metadata": {
        "colab_type": "code",
        "outputId": "2f91e959-bd57-471a-bb68-babd5e7ded38",
        "id": "RYYBVWSuKH1-",
        "colab": {
          "base_uri": "https://localhost:8080/",
          "height": 357
        }
      },
      "source": [
        "net = Net()\n",
        "net.to(device)"
      ],
      "execution_count": 0,
      "outputs": [
        {
          "output_type": "execute_result",
          "data": {
            "text/plain": [
              "Net(\n",
              "  (conv1): Conv2d(3, 64, kernel_size=(3, 3), stride=(1, 1))\n",
              "  (bn_conv1): BatchNorm2d(64, eps=1e-05, momentum=0.1, affine=True, track_running_stats=True)\n",
              "  (conv2): Conv2d(64, 128, kernel_size=(3, 3), stride=(1, 1))\n",
              "  (bn_conv2): BatchNorm2d(128, eps=1e-05, momentum=0.1, affine=True, track_running_stats=True)\n",
              "  (pool): MaxPool2d(kernel_size=2, stride=2, padding=0, dilation=1, ceil_mode=False)\n",
              "  (conv3): Conv2d(128, 256, kernel_size=(3, 3), stride=(1, 1), padding=(1, 1))\n",
              "  (bn_conv3): BatchNorm2d(256, eps=1e-05, momentum=0.1, affine=True, track_running_stats=True)\n",
              "  (conv4): Conv2d(256, 512, kernel_size=(3, 3), stride=(1, 1))\n",
              "  (bn_conv4): BatchNorm2d(512, eps=1e-05, momentum=0.1, affine=True, track_running_stats=True)\n",
              "  (conv5): Conv2d(512, 1024, kernel_size=(3, 3), stride=(1, 1))\n",
              "  (bn_conv5): BatchNorm2d(1024, eps=1e-05, momentum=0.1, affine=True, track_running_stats=True)\n",
              "  (conv6): Conv2d(1024, 2048, kernel_size=(3, 3), stride=(1, 1))\n",
              "  (bn_conv6): BatchNorm2d(2048, eps=1e-05, momentum=0.1, affine=True, track_running_stats=True)\n",
              "  (fc1): Linear(in_features=2048, out_features=512, bias=True)\n",
              "  (bn_fc1): BatchNorm1d(512, eps=1e-05, momentum=0.1, affine=True, track_running_stats=True)\n",
              "  (fc2): Linear(in_features=512, out_features=512, bias=True)\n",
              "  (bn_fc2): BatchNorm1d(512, eps=1e-05, momentum=0.1, affine=True, track_running_stats=True)\n",
              "  (fc3): Linear(in_features=512, out_features=10, bias=True)\n",
              ")"
            ]
          },
          "metadata": {
            "tags": []
          },
          "execution_count": 73
        }
      ]
    },
    {
      "cell_type": "code",
      "metadata": {
        "colab_type": "code",
        "id": "NHf1BoxKKH2D",
        "colab": {}
      },
      "source": [
        "criterion = nn.CrossEntropyLoss()\n",
        "optimizer = optim.Adam(net.parameters(), lr=0.001)"
      ],
      "execution_count": 0,
      "outputs": []
    },
    {
      "cell_type": "code",
      "metadata": {
        "colab_type": "code",
        "id": "jDtEO_ZTKj7C",
        "colab": {}
      },
      "source": [
        "n_epochs = 100\n",
        "\n",
        "accuracies = []\n",
        "losses = []\n",
        "running_losses = []\n",
        "\n",
        "# Log initial accuracies (no training)\n",
        "train_correct, train_total, train_loss = evaluate_model(trainloader)\n",
        "valid_correct, valid_total, valid_loss = evaluate_model(validloader)\n",
        "test_correct, test_total, test_loss = evaluate_model(testloader)\n",
        "\n",
        "train_acc = 100.0 * train_correct / train_total\n",
        "valid_acc = 100.0 * valid_correct / valid_total\n",
        "test_acc = 100.0 * test_correct / test_total\n",
        "\n",
        "accuracies.append([train_acc, valid_acc, test_acc])\n",
        "losses.append([train_loss, valid_loss, test_loss])\n",
        "running_losses.append([train_loss])"
      ],
      "execution_count": 0,
      "outputs": []
    },
    {
      "cell_type": "code",
      "metadata": {
        "colab_type": "code",
        "outputId": "b3242cc0-0170-4ff5-b18c-e146062b03eb",
        "id": "-CZCfW2eKj7H",
        "colab": {
          "base_uri": "https://localhost:8080/",
          "height": 748
        }
      },
      "source": [
        "import warnings\n",
        "\n",
        "with warnings.catch_warnings():\n",
        "    warnings.simplefilter(\"ignore\")\n",
        "    train_net(trainloader, n_epochs)"
      ],
      "execution_count": 0,
      "outputs": [
        {
          "output_type": "stream",
          "text": [
            "[  1,  625] running loss: 1.472    train_acc: 52.742  valid_acc: 56.240    train_loss: 1.376  valid_loss: 1.273\n",
            "[  2,  625] running loss: 1.098    train_acc: 61.250  valid_acc: 64.830    train_loss: 1.170  valid_loss: 1.021\n",
            "[  3,  625] running loss: 0.923    train_acc: 71.493  valid_acc: 74.780    train_loss: 0.941  valid_loss: 0.821\n",
            "[  4,  625] running loss: 0.821    train_acc: 73.703  valid_acc: 78.880    train_loss: 0.886  valid_loss: 0.740\n",
            "[  5,  625] running loss: 0.742    train_acc: 75.692  valid_acc: 78.920    train_loss: 0.819  valid_loss: 0.709\n",
            "[  6,  625] running loss: 0.677    train_acc: 78.480  valid_acc: 81.630    train_loss: 0.737  valid_loss: 0.631\n",
            "[  7,  625] running loss: 0.626    train_acc: 77.532  valid_acc: 79.260    train_loss: 0.758  valid_loss: 0.682\n",
            "[  8,  625] running loss: 0.590    train_acc: 79.855  valid_acc: 82.470    train_loss: 0.683  valid_loss: 0.583\n",
            "[  9,  625] running loss: 0.545    train_acc: 81.010  valid_acc: 82.870    train_loss: 0.664  valid_loss: 0.589\n",
            "[ 10,  625] running loss: 0.512    train_acc: 82.332  valid_acc: 84.090    train_loss: 0.587  valid_loss: 0.521\n",
            "[ 11,  625] running loss: 0.479    train_acc: 84.287  valid_acc: 85.400    train_loss: 0.566  valid_loss: 0.501\n",
            "[ 12,  625] running loss: 0.455    train_acc: 85.320  valid_acc: 85.840    train_loss: 0.500  valid_loss: 0.462\n",
            "[ 13,  625] running loss: 0.431    train_acc: 86.668  valid_acc: 86.510    train_loss: 0.494  valid_loss: 0.456\n",
            "[ 14,  625] running loss: 0.403    train_acc: 86.305  valid_acc: 85.510    train_loss: 0.478  valid_loss: 0.460\n",
            "[ 15,  625] running loss: 0.385    train_acc: 87.115  valid_acc: 86.270    train_loss: 0.449  valid_loss: 0.435\n",
            "[ 16,  625] running loss: 0.363    train_acc: 87.907  valid_acc: 85.740    train_loss: 0.428  valid_loss: 0.432\n",
            "[ 17,  625] running loss: 0.342    train_acc: 89.418  valid_acc: 87.140    train_loss: 0.370  valid_loss: 0.386\n",
            "[ 18,  625] running loss: 0.320    train_acc: 89.175  valid_acc: 86.680    train_loss: 0.384  valid_loss: 0.401\n",
            "[ 19,  625] running loss: 0.307    train_acc: 89.993  valid_acc: 87.470    train_loss: 0.341  valid_loss: 0.376\n",
            "[ 20,  625] running loss: 0.286    train_acc: 89.845  valid_acc: 87.330    train_loss: 0.338  valid_loss: 0.382\n",
            "[ 21,  625] running loss: 0.276    train_acc: 90.043  valid_acc: 86.780    train_loss: 0.332  valid_loss: 0.392\n",
            "[ 22,  625] running loss: 0.265    train_acc: 91.662  valid_acc: 87.220    train_loss: 0.283  valid_loss: 0.370\n",
            "[ 23,  625] running loss: 0.248    train_acc: 91.562  valid_acc: 87.320    train_loss: 0.277  valid_loss: 0.359\n",
            "[ 24,  625] running loss: 0.238    train_acc: 91.597  valid_acc: 87.830    train_loss: 0.278  valid_loss: 0.364\n",
            "[ 25,  625] running loss: 0.224    train_acc: 92.993  valid_acc: 88.250    train_loss: 0.247  valid_loss: 0.340\n",
            "[ 26,  625] running loss: 0.216    train_acc: 91.985  valid_acc: 87.090    train_loss: 0.253  valid_loss: 0.372\n",
            "[ 27,  625] running loss: 0.205    train_acc: 92.972  valid_acc: 88.200    train_loss: 0.236  valid_loss: 0.340\n",
            "[ 28,  625] running loss: 0.199    train_acc: 93.575  valid_acc: 88.620    train_loss: 0.229  valid_loss: 0.334\n",
            "[ 29,  625] running loss: 0.184    train_acc: 94.153  valid_acc: 88.820    train_loss: 0.195  valid_loss: 0.338\n",
            "[ 30,  625] running loss: 0.181    train_acc: 94.215  valid_acc: 88.800    train_loss: 0.183  valid_loss: 0.339\n",
            "[ 31,  625] running loss: 0.170    train_acc: 94.858  valid_acc: 88.940    train_loss: 0.175  valid_loss: 0.330\n",
            "[ 32,  625] running loss: 0.164    train_acc: 94.412  valid_acc: 88.440    train_loss: 0.180  valid_loss: 0.349\n",
            "[ 33,  625] running loss: 0.159    train_acc: 94.325  valid_acc: 88.980    train_loss: 0.184  valid_loss: 0.341\n",
            "[ 34,  625] running loss: 0.151    train_acc: 95.302  valid_acc: 88.690    train_loss: 0.160  valid_loss: 0.342\n",
            "[ 35,  625] running loss: 0.147    train_acc: 95.317  valid_acc: 88.880    train_loss: 0.155  valid_loss: 0.339\n",
            "[ 36,  625] running loss: 0.139    train_acc: 95.558  valid_acc: 89.220    train_loss: 0.147  valid_loss: 0.332\n",
            "[ 37,  625] running loss: 0.132    train_acc: 95.073  valid_acc: 88.770    train_loss: 0.163  valid_loss: 0.346\n",
            "[ 38,  625] running loss: 0.133    train_acc: 95.237  valid_acc: 88.610    train_loss: 0.156  valid_loss: 0.353\n",
            "[ 39,  625] running loss: 0.128    train_acc: 95.810  valid_acc: 88.980    train_loss: 0.137  valid_loss: 0.341\n",
            "[ 40,  625] running loss: 0.128    train_acc: 96.200  valid_acc: 88.440    train_loss: 0.130  valid_loss: 0.345\n",
            "[ 41,  625] running loss: 0.115    train_acc: 95.448  valid_acc: 87.810    train_loss: 0.143  valid_loss: 0.378\n",
            "Stopped Early\n",
            "Model reverted to snapshot after epoch 31 that achieved lowest validation loss at 0.32962776492735385\n"
          ],
          "name": "stdout"
        }
      ]
    },
    {
      "cell_type": "markdown",
      "metadata": {
        "colab_type": "text",
        "id": "bIay2QReKj7K"
      },
      "source": [
        "Save finished trained model"
      ]
    },
    {
      "cell_type": "code",
      "metadata": {
        "colab_type": "code",
        "outputId": "0e4e16d8-6677-4d68-ccd0-53489c5b2807",
        "id": "B1YEtxYdKj7L",
        "colab": {
          "base_uri": "https://localhost:8080/",
          "height": 71
        }
      },
      "source": [
        "snapshot_prefix = os.path.join(save_path, 'trained_model.pt')\n",
        "\n",
        "for f in glob.glob(snapshot_prefix):\n",
        "    os.remove(f)\n",
        "\n",
        "torch.save(net, snapshot_prefix)"
      ],
      "execution_count": 0,
      "outputs": [
        {
          "output_type": "stream",
          "text": [
            "/usr/local/lib/python3.6/dist-packages/torch/serialization.py:360: UserWarning: Couldn't retrieve source code for container of type Net. It won't be checked for correctness upon loading.\n",
            "  \"type \" + obj.__name__ + \". It won't be checked \"\n"
          ],
          "name": "stderr"
        }
      ]
    },
    {
      "cell_type": "markdown",
      "metadata": {
        "colab_type": "text",
        "id": "KC__wAGrKj7O"
      },
      "source": [
        "Save accuracies logged while training as csv file (for easy access later)"
      ]
    },
    {
      "cell_type": "code",
      "metadata": {
        "colab_type": "code",
        "id": "Z7DFFzZgKj7O",
        "colab": {}
      },
      "source": [
        "acc_np = np.array(accuracies)\n",
        "losses_np = np.array(losses)\n",
        "run_losses_np = np.array(running_losses)\n",
        "\n",
        "np.savetxt(save_path+'accuracies.csv', acc_np, delimiter=',')\n",
        "np.savetxt(save_path+'losses.csv', losses_np, delimiter=',')\n",
        "np.savetxt(save_path+'running_losses.csv', run_losses_np, delimiter=',')"
      ],
      "execution_count": 0,
      "outputs": []
    },
    {
      "cell_type": "markdown",
      "metadata": {
        "id": "EBn8CHqCLCLp",
        "colab_type": "text"
      },
      "source": [
        "#### Without training data augmentation"
      ]
    },
    {
      "cell_type": "code",
      "metadata": {
        "id": "oWuM2_GuNPbi",
        "colab_type": "code",
        "outputId": "19a61535-bf06-402a-d8f1-1d1f9ac9a231",
        "colab": {
          "base_uri": "https://localhost:8080/",
          "height": 357
        }
      },
      "source": [
        "net = Net()\n",
        "net.to(device)"
      ],
      "execution_count": 0,
      "outputs": [
        {
          "output_type": "execute_result",
          "data": {
            "text/plain": [
              "Net(\n",
              "  (conv1): Conv2d(3, 64, kernel_size=(3, 3), stride=(1, 1))\n",
              "  (bn_conv1): BatchNorm2d(64, eps=1e-05, momentum=0.1, affine=True, track_running_stats=True)\n",
              "  (conv2): Conv2d(64, 128, kernel_size=(3, 3), stride=(1, 1))\n",
              "  (bn_conv2): BatchNorm2d(128, eps=1e-05, momentum=0.1, affine=True, track_running_stats=True)\n",
              "  (pool): MaxPool2d(kernel_size=2, stride=2, padding=0, dilation=1, ceil_mode=False)\n",
              "  (conv3): Conv2d(128, 256, kernel_size=(3, 3), stride=(1, 1), padding=(1, 1))\n",
              "  (bn_conv3): BatchNorm2d(256, eps=1e-05, momentum=0.1, affine=True, track_running_stats=True)\n",
              "  (conv4): Conv2d(256, 512, kernel_size=(3, 3), stride=(1, 1))\n",
              "  (bn_conv4): BatchNorm2d(512, eps=1e-05, momentum=0.1, affine=True, track_running_stats=True)\n",
              "  (conv5): Conv2d(512, 1024, kernel_size=(3, 3), stride=(1, 1))\n",
              "  (bn_conv5): BatchNorm2d(1024, eps=1e-05, momentum=0.1, affine=True, track_running_stats=True)\n",
              "  (conv6): Conv2d(1024, 2048, kernel_size=(3, 3), stride=(1, 1))\n",
              "  (bn_conv6): BatchNorm2d(2048, eps=1e-05, momentum=0.1, affine=True, track_running_stats=True)\n",
              "  (fc1): Linear(in_features=2048, out_features=512, bias=True)\n",
              "  (bn_fc1): BatchNorm1d(512, eps=1e-05, momentum=0.1, affine=True, track_running_stats=True)\n",
              "  (fc2): Linear(in_features=512, out_features=512, bias=True)\n",
              "  (bn_fc2): BatchNorm1d(512, eps=1e-05, momentum=0.1, affine=True, track_running_stats=True)\n",
              "  (fc3): Linear(in_features=512, out_features=10, bias=True)\n",
              ")"
            ]
          },
          "metadata": {
            "tags": []
          },
          "execution_count": 97
        }
      ]
    },
    {
      "cell_type": "code",
      "metadata": {
        "id": "XhJRSn7LNWQG",
        "colab_type": "code",
        "colab": {}
      },
      "source": [
        "criterion = nn.CrossEntropyLoss()\n",
        "optimizer = optim.Adam(net.parameters(), lr=0.001)"
      ],
      "execution_count": 0,
      "outputs": []
    },
    {
      "cell_type": "code",
      "metadata": {
        "id": "UNnFOwt4r3A8",
        "colab_type": "code",
        "colab": {}
      },
      "source": [
        "n_epochs = 100\n",
        "\n",
        "accuracies = []\n",
        "losses = []\n",
        "running_losses = []\n",
        "\n",
        "# Log initial accuracies (no training)\n",
        "train_correct, train_total, train_loss = evaluate_model(no_aug_train_loader)\n",
        "valid_correct, valid_total, valid_loss = evaluate_model(validloader)\n",
        "test_correct, test_total, test_loss = evaluate_model(testloader)\n",
        "\n",
        "train_acc = 100.0 * train_correct / train_total\n",
        "valid_acc = 100.0 * valid_correct / valid_total\n",
        "test_acc = 100.0 * test_correct / test_total\n",
        "\n",
        "accuracies.append([train_acc, valid_acc, test_acc])\n",
        "losses.append([train_loss, valid_loss, test_loss])\n",
        "running_losses.append([train_loss])"
      ],
      "execution_count": 0,
      "outputs": []
    },
    {
      "cell_type": "code",
      "metadata": {
        "id": "Ly_RDSU-REH0",
        "colab_type": "code",
        "outputId": "9734261b-da56-4388-a625-a1bcfb851720",
        "colab": {
          "base_uri": "https://localhost:8080/",
          "height": 357
        }
      },
      "source": [
        "import warnings\n",
        "\n",
        "with warnings.catch_warnings():\n",
        "    warnings.simplefilter(\"ignore\")\n",
        "    train_net(no_aug_train_loader, n_epochs)"
      ],
      "execution_count": 0,
      "outputs": [
        {
          "output_type": "stream",
          "text": [
            "[  1,  625] running loss: 1.198    train_acc: 65.448  valid_acc: 63.450    train_loss: 1.027  valid_loss: 1.057\n",
            "[  2,  625] running loss: 0.774    train_acc: 75.228  valid_acc: 72.410    train_loss: 0.789  valid_loss: 0.845\n",
            "[  3,  625] running loss: 0.597    train_acc: 80.975  valid_acc: 76.380    train_loss: 0.671  valid_loss: 0.766\n",
            "[  4,  625] running loss: 0.468    train_acc: 87.450  valid_acc: 80.350    train_loss: 0.464  valid_loss: 0.619\n",
            "[  5,  625] running loss: 0.378    train_acc: 90.915  valid_acc: 80.800    train_loss: 0.363  valid_loss: 0.581\n",
            "[  6,  625] running loss: 0.281    train_acc: 90.295  valid_acc: 79.290    train_loss: 0.323  valid_loss: 0.600\n",
            "[  7,  625] running loss: 0.212    train_acc: 92.115  valid_acc: 78.780    train_loss: 0.269  valid_loss: 0.625\n",
            "[  8,  625] running loss: 0.151    train_acc: 96.103  valid_acc: 81.910    train_loss: 0.148  valid_loss: 0.534\n",
            "[  9,  625] running loss: 0.122    train_acc: 95.555  valid_acc: 81.140    train_loss: 0.150  valid_loss: 0.568\n",
            "[ 10,  625] running loss: 0.102    train_acc: 96.695  valid_acc: 81.430    train_loss: 0.115  valid_loss: 0.589\n",
            "[ 11,  625] running loss: 0.074    train_acc: 96.575  valid_acc: 80.540    train_loss: 0.111  valid_loss: 0.610\n",
            "[ 12,  625] running loss: 0.071    train_acc: 95.455  valid_acc: 79.250    train_loss: 0.132  valid_loss: 0.694\n",
            "[ 13,  625] running loss: 0.065    train_acc: 96.632  valid_acc: 81.070    train_loss: 0.100  valid_loss: 0.661\n",
            "[ 14,  625] running loss: 0.050    train_acc: 97.472  valid_acc: 81.960    train_loss: 0.076  valid_loss: 0.624\n",
            "[ 15,  625] running loss: 0.056    train_acc: 97.725  valid_acc: 81.740    train_loss: 0.069  valid_loss: 0.615\n",
            "[ 16,  625] running loss: 0.045    train_acc: 98.397  valid_acc: 83.380    train_loss: 0.052  valid_loss: 0.607\n",
            "[ 17,  625] running loss: 0.043    train_acc: 98.668  valid_acc: 83.290    train_loss: 0.044  valid_loss: 0.610\n",
            "[ 18,  625] running loss: 0.041    train_acc: 97.320  valid_acc: 82.000    train_loss: 0.076  valid_loss: 0.683\n",
            "Stopped Early\n",
            "Model reverted to snapshot after epoch 8 that achieved lowest validation loss at 0.5338839081821928\n"
          ],
          "name": "stdout"
        }
      ]
    },
    {
      "cell_type": "markdown",
      "metadata": {
        "colab_type": "text",
        "id": "YpnuSZkOKwjj"
      },
      "source": [
        "Save finished trained model"
      ]
    },
    {
      "cell_type": "code",
      "metadata": {
        "colab_type": "code",
        "outputId": "76ebb4fc-c237-4cf3-fd26-dbb90e6194e7",
        "id": "L6fWU182Kwjj",
        "colab": {
          "base_uri": "https://localhost:8080/",
          "height": 71
        }
      },
      "source": [
        "snapshot_prefix = os.path.join(save_path, 'trained_model_no_aug.pt')\n",
        "\n",
        "for f in glob.glob(snapshot_prefix):\n",
        "    os.remove(f)\n",
        "\n",
        "torch.save(net, snapshot_prefix)"
      ],
      "execution_count": 0,
      "outputs": [
        {
          "output_type": "stream",
          "text": [
            "/usr/local/lib/python3.6/dist-packages/torch/serialization.py:360: UserWarning: Couldn't retrieve source code for container of type Net. It won't be checked for correctness upon loading.\n",
            "  \"type \" + obj.__name__ + \". It won't be checked \"\n"
          ],
          "name": "stderr"
        }
      ]
    },
    {
      "cell_type": "markdown",
      "metadata": {
        "id": "Ui0zLYXitXWd",
        "colab_type": "text"
      },
      "source": [
        "Save accuracies logged while training as csv file (for easy access later)"
      ]
    },
    {
      "cell_type": "code",
      "metadata": {
        "id": "69czzSXprS1B",
        "colab_type": "code",
        "colab": {}
      },
      "source": [
        "acc_np = np.array(accuracies)\n",
        "losses_np = np.array(losses)\n",
        "run_losses_np = np.array(running_losses)\n",
        "\n",
        "np.savetxt(save_path+'accuracies_no_aug.csv', acc_np, delimiter=',')\n",
        "np.savetxt(save_path+'losses_no_aug.csv', losses_np, delimiter=',')\n",
        "np.savetxt(save_path+'running_losses_no_aug.csv', run_losses_np, delimiter=',')"
      ],
      "execution_count": 0,
      "outputs": []
    },
    {
      "cell_type": "markdown",
      "metadata": {
        "id": "pSe8uysVjXSe",
        "colab_type": "text"
      },
      "source": [
        "### Model evaluation"
      ]
    },
    {
      "cell_type": "markdown",
      "metadata": {
        "id": "nRABFWKCL3jS",
        "colab_type": "text"
      },
      "source": [
        "#### With training data augmentation"
      ]
    },
    {
      "cell_type": "code",
      "metadata": {
        "id": "CeuPKue28Pw9",
        "colab_type": "code",
        "outputId": "9e41d042-a6c3-4c0f-b37f-a1b1dea2eafa",
        "colab": {
          "base_uri": "https://localhost:8080/",
          "height": 357
        }
      },
      "source": [
        "net = torch.load(save_path+'trained_model.pt', map_location=torch.device(device))\n",
        "net.eval()"
      ],
      "execution_count": 0,
      "outputs": [
        {
          "output_type": "execute_result",
          "data": {
            "text/plain": [
              "Net(\n",
              "  (conv1): Conv2d(3, 64, kernel_size=(3, 3), stride=(1, 1))\n",
              "  (bn_conv1): BatchNorm2d(64, eps=1e-05, momentum=0.1, affine=True, track_running_stats=True)\n",
              "  (conv2): Conv2d(64, 128, kernel_size=(3, 3), stride=(1, 1))\n",
              "  (bn_conv2): BatchNorm2d(128, eps=1e-05, momentum=0.1, affine=True, track_running_stats=True)\n",
              "  (pool): MaxPool2d(kernel_size=2, stride=2, padding=0, dilation=1, ceil_mode=False)\n",
              "  (conv3): Conv2d(128, 256, kernel_size=(3, 3), stride=(1, 1), padding=(1, 1))\n",
              "  (bn_conv3): BatchNorm2d(256, eps=1e-05, momentum=0.1, affine=True, track_running_stats=True)\n",
              "  (conv4): Conv2d(256, 512, kernel_size=(3, 3), stride=(1, 1))\n",
              "  (bn_conv4): BatchNorm2d(512, eps=1e-05, momentum=0.1, affine=True, track_running_stats=True)\n",
              "  (conv5): Conv2d(512, 1024, kernel_size=(3, 3), stride=(1, 1))\n",
              "  (bn_conv5): BatchNorm2d(1024, eps=1e-05, momentum=0.1, affine=True, track_running_stats=True)\n",
              "  (conv6): Conv2d(1024, 2048, kernel_size=(3, 3), stride=(1, 1))\n",
              "  (bn_conv6): BatchNorm2d(2048, eps=1e-05, momentum=0.1, affine=True, track_running_stats=True)\n",
              "  (fc1): Linear(in_features=2048, out_features=512, bias=True)\n",
              "  (bn_fc1): BatchNorm1d(512, eps=1e-05, momentum=0.1, affine=True, track_running_stats=True)\n",
              "  (fc2): Linear(in_features=512, out_features=512, bias=True)\n",
              "  (bn_fc2): BatchNorm1d(512, eps=1e-05, momentum=0.1, affine=True, track_running_stats=True)\n",
              "  (fc3): Linear(in_features=512, out_features=10, bias=True)\n",
              ")"
            ]
          },
          "metadata": {
            "tags": []
          },
          "execution_count": 79
        }
      ]
    },
    {
      "cell_type": "code",
      "metadata": {
        "id": "gP-QyiezRDjc",
        "colab_type": "code",
        "outputId": "2c44f44b-50fa-45eb-c4e5-084e36a198af",
        "colab": {
          "base_uri": "https://localhost:8080/",
          "height": 230
        }
      },
      "source": [
        "dataiter = iter(testloader)\n",
        "images, labels = dataiter.next()\n",
        "\n",
        "# print images\n",
        "print('GroundTruths')\n",
        "fig = plt.figure(figsize=(20,5))\n",
        "imshow(torchvision.utils.make_grid(images[:8]))\n",
        "print('\\t'+'\\t\\t  '.join('%5s' % classes[labels[j]] for j in range(8)))"
      ],
      "execution_count": 0,
      "outputs": [
        {
          "output_type": "stream",
          "text": [
            "GroundTruths\n"
          ],
          "name": "stdout"
        },
        {
          "output_type": "display_data",
          "data": {
            "image/png": "[encoded data removed]",
            "text/plain": [
              "<Figure size 1440x360 with 1 Axes>"
            ]
          },
          "metadata": {
            "tags": [],
            "needs_background": "light"
          }
        },
        {
          "output_type": "stream",
          "text": [
            "\t  cat\t\t   ship\t\t   ship\t\t  plane\t\t   frog\t\t   frog\t\t    car\t\t   frog\n"
          ],
          "name": "stdout"
        }
      ]
    },
    {
      "cell_type": "code",
      "metadata": {
        "id": "PfZCq6RgREqd",
        "colab_type": "code",
        "colab": {}
      },
      "source": [
        "# feed model images to predict\n",
        "outputs = net(images.to(device))"
      ],
      "execution_count": 0,
      "outputs": []
    },
    {
      "cell_type": "code",
      "metadata": {
        "id": "2X2ShrUgRJn4",
        "colab_type": "code",
        "outputId": "c656776e-5eb0-44fc-ee7a-76795b5499d2",
        "colab": {
          "base_uri": "https://localhost:8080/",
          "height": 51
        }
      },
      "source": [
        "_, predicted = torch.max(outputs, 1)\n",
        "\n",
        "print('Predictions')\n",
        "print('\\t'+'\\t\\t  '.join('%5s' % classes[predicted[j]] for j in range(8)))"
      ],
      "execution_count": 0,
      "outputs": [
        {
          "output_type": "stream",
          "text": [
            "Predictions\n",
            "\t  cat\t\t   ship\t\t   ship\t\t  plane\t\t   frog\t\t   frog\t\t    car\t\t   frog\n"
          ],
          "name": "stdout"
        }
      ]
    },
    {
      "cell_type": "code",
      "metadata": {
        "id": "-0z3EB-wSumT",
        "colab_type": "code",
        "outputId": "8577fc4d-abef-4fed-f0a1-4ab44f5acba2",
        "colab": {
          "base_uri": "https://localhost:8080/",
          "height": 221
        }
      },
      "source": [
        "correct = 0\n",
        "total = 0\n",
        "class_correct = list(0. for i in range(10))\n",
        "class_total = list(0. for i in range(10))\n",
        "\n",
        "with torch.no_grad():\n",
        "    for data in testloader:\n",
        "        images, labels = data[0].to(device), data[1].to(device)\n",
        "        outputs = net(images)\n",
        "        _, predicted = torch.max(outputs.data, 1)\n",
        "        total += labels.size(0)\n",
        "        correct += (predicted == labels).sum().item()\n",
        "        c = (predicted == labels).squeeze()\n",
        "        for i in range(4):\n",
        "            label = labels[i]\n",
        "            class_correct[label] += c[i].item()\n",
        "            class_total[label] += 1\n",
        "\n",
        "print('Accuracy of the network on the 10000 test images: %2.3f %%\\n' % (\n",
        "    100.0 * correct / total))\n",
        "\n",
        "for i in range(10):\n",
        "    print('Accuracy of %5s : %2d %%' % (\n",
        "        classes[i], 100 * class_correct[i] / class_total[i]))"
      ],
      "execution_count": 0,
      "outputs": [
        {
          "output_type": "stream",
          "text": [
            "Accuracy of the network on the 10000 test images: 88.540 %\n",
            "\n",
            "Accuracy of plane : 94 %\n",
            "Accuracy of   car : 90 %\n",
            "Accuracy of  bird : 84 %\n",
            "Accuracy of   cat : 72 %\n",
            "Accuracy of  deer : 85 %\n",
            "Accuracy of   dog : 86 %\n",
            "Accuracy of  frog : 94 %\n",
            "Accuracy of horse : 87 %\n",
            "Accuracy of  ship : 96 %\n",
            "Accuracy of truck : 92 %\n"
          ],
          "name": "stdout"
        }
      ]
    },
    {
      "cell_type": "code",
      "metadata": {
        "id": "fDQlI5lUuqOb",
        "colab_type": "code",
        "colab": {}
      },
      "source": [
        "# Load accuracies from saved files\n",
        "acc_np = np.genfromtxt(save_path+'accuracies.csv', delimiter=',')\n",
        "losses_np = np.genfromtxt(save_path+'losses.csv', delimiter=',')\n",
        "run_losses_np = np.genfromtxt(save_path+'running_losses.csv', delimiter=',')"
      ],
      "execution_count": 0,
      "outputs": []
    },
    {
      "cell_type": "markdown",
      "metadata": {
        "id": "_6jWzp8EQTUk",
        "colab_type": "text"
      },
      "source": [
        "Plot accuracies"
      ]
    },
    {
      "cell_type": "code",
      "metadata": {
        "id": "7tYJ3Dvv9kmM",
        "colab_type": "code",
        "outputId": "4f2e7cd5-fce8-4e43-9c71-4f6c6121eb84",
        "colab": {
          "base_uri": "https://localhost:8080/",
          "height": 295
        }
      },
      "source": [
        "with sns.axes_style('darkgrid'):\n",
        "    \n",
        "\n",
        "    plt.title('CNN training, validation, and test accuracies on CIFAR10')\n",
        "    plt.ylabel('accuracies')\n",
        "    plt.xlabel('epochs')\n",
        "    plt.plot(acc_np)\n",
        "    plt.axvline(31, color='red')\n",
        "    plt.legend(['train', 'validation', 'test'], loc='lower right')\n",
        "    \n",
        "    plt.show()\n",
        "    # plt.savefig('accuracies.png')"
      ],
      "execution_count": 0,
      "outputs": [
        {
          "output_type": "display_data",
          "data": {
            "image/png": "[encoded data removed]",
            "text/plain": [
              "<Figure size 432x288 with 1 Axes>"
            ]
          },
          "metadata": {
            "tags": []
          }
        }
      ]
    },
    {
      "cell_type": "markdown",
      "metadata": {
        "id": "V251UB89QU2D",
        "colab_type": "text"
      },
      "source": [
        "Plot losses"
      ]
    },
    {
      "cell_type": "code",
      "metadata": {
        "id": "Q6ALeAoGgoL_",
        "colab_type": "code",
        "outputId": "c849fc69-3e6a-4286-e5ba-0b87e66218a4",
        "colab": {
          "base_uri": "https://localhost:8080/",
          "height": 295
        }
      },
      "source": [
        "with sns.axes_style('darkgrid'):\n",
        "    plt.title('CNN running, training, validation, and test losses on CIFAR10')\n",
        "    plt.ylabel('losses')\n",
        "    plt.xlabel('epochs')\n",
        "    plt.plot(run_losses_np, color='lightskyblue')\n",
        "    plt.plot(losses_np)\n",
        "    plt.axvline(31, color='red')\n",
        "    plt.legend(['running', 'train', 'validation', 'test'], loc='upper right')\n",
        "\n",
        "    plt.show()\n",
        "    # plt.savefig('losses.png')"
      ],
      "execution_count": 0,
      "outputs": [
        {
          "output_type": "display_data",
          "data": {
            "image/png": "[encoded data removed]",
            "text/plain": [
              "<Figure size 432x288 with 1 Axes>"
            ]
          },
          "metadata": {
            "tags": []
          }
        }
      ]
    },
    {
      "cell_type": "markdown",
      "metadata": {
        "id": "DLPphHAvL3zg",
        "colab_type": "text"
      },
      "source": [
        "#### Without training data augmentation"
      ]
    },
    {
      "cell_type": "code",
      "metadata": {
        "colab_type": "code",
        "id": "j7xn7IW_MPqQ",
        "outputId": "b44d3332-8dc0-4159-a099-0b1a566b6d3c",
        "colab": {
          "base_uri": "https://localhost:8080/",
          "height": 357
        }
      },
      "source": [
        "net = torch.load(save_path+'trained_model_no_aug.pt', map_location=torch.device(device))\n",
        "net.eval()"
      ],
      "execution_count": 0,
      "outputs": [
        {
          "output_type": "execute_result",
          "data": {
            "text/plain": [
              "Net(\n",
              "  (conv1): Conv2d(3, 64, kernel_size=(3, 3), stride=(1, 1))\n",
              "  (bn_conv1): BatchNorm2d(64, eps=1e-05, momentum=0.1, affine=True, track_running_stats=True)\n",
              "  (conv2): Conv2d(64, 128, kernel_size=(3, 3), stride=(1, 1))\n",
              "  (bn_conv2): BatchNorm2d(128, eps=1e-05, momentum=0.1, affine=True, track_running_stats=True)\n",
              "  (pool): MaxPool2d(kernel_size=2, stride=2, padding=0, dilation=1, ceil_mode=False)\n",
              "  (conv3): Conv2d(128, 256, kernel_size=(3, 3), stride=(1, 1), padding=(1, 1))\n",
              "  (bn_conv3): BatchNorm2d(256, eps=1e-05, momentum=0.1, affine=True, track_running_stats=True)\n",
              "  (conv4): Conv2d(256, 512, kernel_size=(3, 3), stride=(1, 1))\n",
              "  (bn_conv4): BatchNorm2d(512, eps=1e-05, momentum=0.1, affine=True, track_running_stats=True)\n",
              "  (conv5): Conv2d(512, 1024, kernel_size=(3, 3), stride=(1, 1))\n",
              "  (bn_conv5): BatchNorm2d(1024, eps=1e-05, momentum=0.1, affine=True, track_running_stats=True)\n",
              "  (conv6): Conv2d(1024, 2048, kernel_size=(3, 3), stride=(1, 1))\n",
              "  (bn_conv6): BatchNorm2d(2048, eps=1e-05, momentum=0.1, affine=True, track_running_stats=True)\n",
              "  (fc1): Linear(in_features=2048, out_features=512, bias=True)\n",
              "  (bn_fc1): BatchNorm1d(512, eps=1e-05, momentum=0.1, affine=True, track_running_stats=True)\n",
              "  (fc2): Linear(in_features=512, out_features=512, bias=True)\n",
              "  (bn_fc2): BatchNorm1d(512, eps=1e-05, momentum=0.1, affine=True, track_running_stats=True)\n",
              "  (fc3): Linear(in_features=512, out_features=10, bias=True)\n",
              ")"
            ]
          },
          "metadata": {
            "tags": []
          },
          "execution_count": 105
        }
      ]
    },
    {
      "cell_type": "code",
      "metadata": {
        "colab_type": "code",
        "outputId": "a768157e-a688-4687-8fbb-0eb6dce17605",
        "id": "xHI89orUbafw",
        "colab": {
          "base_uri": "https://localhost:8080/",
          "height": 230
        }
      },
      "source": [
        "dataiter = iter(testloader)\n",
        "images, labels = dataiter.next()\n",
        "\n",
        "# print images\n",
        "print('GroundTruths')\n",
        "fig = plt.figure(figsize=(20,5))\n",
        "imshow(torchvision.utils.make_grid(images[:8]))\n",
        "print('\\t'+'\\t\\t  '.join('%5s' % classes[labels[j]] for j in range(8)))"
      ],
      "execution_count": 0,
      "outputs": [
        {
          "output_type": "stream",
          "text": [
            "GroundTruths\n"
          ],
          "name": "stdout"
        },
        {
          "output_type": "display_data",
          "data": {
            "image/png": "[encoded data removed]",
            "text/plain": [
              "<Figure size 1440x360 with 1 Axes>"
            ]
          },
          "metadata": {
            "tags": [],
            "needs_background": "light"
          }
        },
        {
          "output_type": "stream",
          "text": [
            "\t  cat\t\t   ship\t\t   ship\t\t  plane\t\t   frog\t\t   frog\t\t    car\t\t   frog\n"
          ],
          "name": "stdout"
        }
      ]
    },
    {
      "cell_type": "code",
      "metadata": {
        "colab_type": "code",
        "id": "sEq_k6Igbaf8",
        "colab": {}
      },
      "source": [
        "# feed model images to predict\n",
        "outputs = net(images.to(device))"
      ],
      "execution_count": 0,
      "outputs": []
    },
    {
      "cell_type": "code",
      "metadata": {
        "colab_type": "code",
        "outputId": "8c15a400-c081-461f-f222-1a6e9d51b80d",
        "id": "2b2H9l2dbaf-",
        "colab": {
          "base_uri": "https://localhost:8080/",
          "height": 51
        }
      },
      "source": [
        "_, predicted = torch.max(outputs, 1)\n",
        "\n",
        "print('Predictions')\n",
        "print('\\t'+'\\t\\t  '.join('%5s' % classes[predicted[j]] for j in range(8)))"
      ],
      "execution_count": 0,
      "outputs": [
        {
          "output_type": "stream",
          "text": [
            "Predictions\n",
            "\t  cat\t\t   ship\t\t   ship\t\t  plane\t\t   frog\t\t   frog\t\t    car\t\t   frog\n"
          ],
          "name": "stdout"
        }
      ]
    },
    {
      "cell_type": "code",
      "metadata": {
        "colab_type": "code",
        "outputId": "ef44ad89-20cc-4769-f3ca-665eaea2c8d3",
        "id": "dFGFTP4rbagA",
        "colab": {
          "base_uri": "https://localhost:8080/",
          "height": 221
        }
      },
      "source": [
        "correct = 0\n",
        "total = 0\n",
        "class_correct = list(0. for i in range(10))\n",
        "class_total = list(0. for i in range(10))\n",
        "\n",
        "with torch.no_grad():\n",
        "    for data in testloader:\n",
        "        images, labels = data[0].to(device), data[1].to(device)\n",
        "        outputs = net(images)\n",
        "        _, predicted = torch.max(outputs.data, 1)\n",
        "        total += labels.size(0)\n",
        "        correct += (predicted == labels).sum().item()\n",
        "        c = (predicted == labels).squeeze()\n",
        "        for i in range(4):\n",
        "            label = labels[i]\n",
        "            class_correct[label] += c[i].item()\n",
        "            class_total[label] += 1\n",
        "\n",
        "print('Accuracy of the network on the 10000 test images: %2.3f %%\\n' % (\n",
        "    100.0 * correct / total))\n",
        "\n",
        "for i in range(10):\n",
        "    print('Accuracy of %5s : %2d %%' % (\n",
        "        classes[i], 100 * class_correct[i] / class_total[i]))"
      ],
      "execution_count": 0,
      "outputs": [
        {
          "output_type": "stream",
          "text": [
            "Accuracy of the network on the 10000 test images: 81.490 %\n",
            "\n",
            "Accuracy of plane : 83 %\n",
            "Accuracy of   car : 92 %\n",
            "Accuracy of  bird : 87 %\n",
            "Accuracy of   cat : 64 %\n",
            "Accuracy of  deer : 74 %\n",
            "Accuracy of   dog : 76 %\n",
            "Accuracy of  frog : 87 %\n",
            "Accuracy of horse : 81 %\n",
            "Accuracy of  ship : 86 %\n",
            "Accuracy of truck : 88 %\n"
          ],
          "name": "stdout"
        }
      ]
    },
    {
      "cell_type": "code",
      "metadata": {
        "colab_type": "code",
        "id": "Hz17odFSbp6E",
        "colab": {}
      },
      "source": [
        "# Load accuracies from saved files\n",
        "acc_np = np.genfromtxt(save_path+'accuracies_no_aug.csv', delimiter=',')\n",
        "losses_np = np.genfromtxt(save_path+'losses_no_aug.csv', delimiter=',')\n",
        "run_losses_np = np.genfromtxt(save_path+'running_losses_no_aug.csv', delimiter=',')"
      ],
      "execution_count": 0,
      "outputs": []
    },
    {
      "cell_type": "markdown",
      "metadata": {
        "colab_type": "text",
        "id": "bXJgVC7Ybp6J"
      },
      "source": [
        "Plot accuracies"
      ]
    },
    {
      "cell_type": "code",
      "metadata": {
        "colab_type": "code",
        "outputId": "00b619b6-08ae-40d0-bdb4-45c1f668d73a",
        "id": "OwFphBEpbp6J",
        "colab": {
          "base_uri": "https://localhost:8080/",
          "height": 310
        }
      },
      "source": [
        "with sns.axes_style('darkgrid'):\n",
        "    plt.title('CNN training, validation, and test accuracies on CIFAR10\\n(no augmentation on training data)')\n",
        "    plt.ylabel('accuracies')\n",
        "    plt.xlabel('epochs')\n",
        "    plt.plot(acc_np)\n",
        "    plt.axvline(8, color='red')\n",
        "    plt.legend(['train', 'validation', 'test'], loc='lower right')\n",
        "\n",
        "    plt.show()\n",
        "    # plt.savefig('accuracies.png')"
      ],
      "execution_count": 0,
      "outputs": [
        {
          "output_type": "display_data",
          "data": {
            "image/png": "[encoded data removed]",
            "text/plain": [
              "<Figure size 432x288 with 1 Axes>"
            ]
          },
          "metadata": {
            "tags": []
          }
        }
      ]
    },
    {
      "cell_type": "markdown",
      "metadata": {
        "colab_type": "text",
        "id": "7zpCsyv8bp6M"
      },
      "source": [
        "Plot losses"
      ]
    },
    {
      "cell_type": "code",
      "metadata": {
        "colab_type": "code",
        "outputId": "3fb1a490-0592-41c5-e288-77862395d67f",
        "id": "xvfuTNDYbp6N",
        "colab": {
          "base_uri": "https://localhost:8080/",
          "height": 310
        }
      },
      "source": [
        "with sns.axes_style('darkgrid'):\n",
        "    plt.title('CNN running, training, validation, and test losses on CIFAR10\\n(no augmentation on training data)')\n",
        "    plt.ylabel('losses')\n",
        "    plt.xlabel('epochs')\n",
        "    plt.plot(run_losses_np, color='lightskyblue')\n",
        "    plt.plot(losses_np)\n",
        "    plt.axvline(8, color='red')\n",
        "    plt.legend(['running', 'train', 'validation', 'test'], loc='upper right')\n",
        "\n",
        "    plt.show()\n",
        "    # plt.savefig('losses.png')"
      ],
      "execution_count": 0,
      "outputs": [
        {
          "output_type": "display_data",
          "data": {
            "image/png": "[encoded data removed]",
            "text/plain": [
              "<Figure size 432x288 with 1 Axes>"
            ]
          },
          "metadata": {
            "tags": []
          }
        }
      ]
    },
    {
      "cell_type": "markdown",
      "metadata": {
        "colab_type": "text",
        "id": "V1kSWANH8_zo"
      },
      "source": [
        "## Preprocessing for MLP"
      ]
    },
    {
      "cell_type": "code",
      "metadata": {
        "colab_type": "code",
        "outputId": "8449ea67-0230-4631-cf12-a041c5b0f025",
        "id": "YqaqaCaK8_zz",
        "colab": {
          "base_uri": "https://localhost:8080/",
          "height": 68
        }
      },
      "source": [
        "# Train/validation sets\n",
        "trainset = torchvision.datasets.CIFAR10(root='./data', train=True,\n",
        "                                        download=True, transform=transform)\n",
        "validset = torchvision.datasets.CIFAR10(root='./data', train=True,\n",
        "                                        download=True, transform=transform)\n",
        "# Use SubsetRandomSampler to separate into train/validation\n",
        "set_size = len(trainset)\n",
        "indices = list(range(set_size))\n",
        "split = int(np.floor(validation_size * set_size))\n",
        "\n",
        "np.random.shuffle(indices)\n",
        "\n",
        "train_idx, valid_idx = indices[split:], indices[:split]\n",
        "\n",
        "train_sampler = SubsetRandomSampler(train_idx)\n",
        "valid_sampler = SubsetRandomSampler(valid_idx)\n",
        "\n",
        "trainloader = torch.utils.data.DataLoader(trainset, batch_size=40000,\n",
        "                                          sampler=train_sampler, num_workers=4)\n",
        "validloader = torch.utils.data.DataLoader(validset, batch_size=10000,\n",
        "                                          sampler=valid_sampler, num_workers=4)\n",
        "\n",
        "# Test set\n",
        "testset = torchvision.datasets.CIFAR10(root='./data', train=False,\n",
        "                                       download=True, transform=transform)\n",
        "testloader = torch.utils.data.DataLoader(testset, batch_size=10000,\n",
        "                                         shuffle=False, num_workers=4)\n",
        "\n",
        "classes = ('plane', 'car', 'bird', 'cat',\n",
        "           'deer', 'dog', 'frog', 'horse', 'ship', 'truck')"
      ],
      "execution_count": 0,
      "outputs": [
        {
          "output_type": "stream",
          "text": [
            "Files already downloaded and verified\n",
            "Files already downloaded and verified\n",
            "Files already downloaded and verified\n"
          ],
          "name": "stdout"
        }
      ]
    },
    {
      "cell_type": "code",
      "metadata": {
        "colab_type": "code",
        "outputId": "f7c4e58a-e184-4195-ef38-6082befc6b92",
        "id": "GabaoH138_z8",
        "colab": {
          "base_uri": "https://localhost:8080/",
          "height": 213
        }
      },
      "source": [
        "# get some random training images\n",
        "dataiter = iter(trainloader)\n",
        "images, labels = dataiter.next()\n",
        "\n",
        "# show images\n",
        "fig = plt.figure(figsize=(20,5))\n",
        "imshow(torchvision.utils.make_grid(images[:8]))\n",
        "# print labels\n",
        "print('\\t'+'\\t\\t  '.join('%5s' % classes[labels[j]] for j in range(8)))"
      ],
      "execution_count": 0,
      "outputs": [
        {
          "output_type": "display_data",
          "data": {
            "image/png": "[encoded data removed]",
            "text/plain": [
              "<Figure size 1440x360 with 1 Axes>"
            ]
          },
          "metadata": {
            "tags": [],
            "needs_background": "light"
          }
        },
        {
          "output_type": "stream",
          "text": [
            "\thorse\t\t  plane\t\t    cat\t\t    car\t\t  horse\t\t    cat\t\t   bird\t\t  plane\n"
          ],
          "name": "stdout"
        }
      ]
    },
    {
      "cell_type": "markdown",
      "metadata": {
        "id": "WoiAlh-dR1bf",
        "colab_type": "text"
      },
      "source": [
        "Flatten images into 3072x1 vectors and convert to numpy arrays\n",
        "\n",
        "One hot encode labels into numpy arrays"
      ]
    },
    {
      "cell_type": "code",
      "metadata": {
        "id": "B3PqhRQFRNrq",
        "colab_type": "code",
        "colab": {}
      },
      "source": [
        "# Training set\n",
        "dataiter = iter(trainloader)\n",
        "images, labels = dataiter.next()\n",
        "d1 = images.shape[0]\n",
        "\n",
        "X_train = images.reshape((d1, -1)).numpy()\n",
        "y_train_labels = labels\n",
        "y_train = np.zeros((X_train.shape[0], 10))\n",
        "y_train[range(len(y_train)), labels] += 1\n",
        "\n",
        "# Validation set\n",
        "dataiter = iter(validloader)\n",
        "images, labels = dataiter.next()\n",
        "d1 = images.shape[0]\n",
        "\n",
        "X_valid = images.reshape((d1, -1)).numpy()\n",
        "y_valid_labels = labels\n",
        "y_valid = np.zeros((X_valid.shape[0], 10))\n",
        "y_valid[range(len(y_valid)), labels] += 1\n",
        "\n",
        "# Test set\n",
        "dataiter = iter(testloader)\n",
        "images, labels = dataiter.next()\n",
        "d1 = images.shape[0]\n",
        "\n",
        "X_test = images.reshape((d1, -1)).numpy()\n",
        "y_test_labels = labels\n",
        "y_test = np.zeros((X_test.shape[0], 10))\n",
        "y_test[range(len(y_test)), labels] += 1"
      ],
      "execution_count": 0,
      "outputs": []
    },
    {
      "cell_type": "markdown",
      "metadata": {
        "id": "2ZqCa4Cpl5vM",
        "colab_type": "text"
      },
      "source": [
        "## Multilayer Perceptron (MLP)"
      ]
    },
    {
      "cell_type": "markdown",
      "metadata": {
        "id": "8tLBwVAeYV50",
        "colab_type": "text"
      },
      "source": [
        "### Model definition"
      ]
    },
    {
      "cell_type": "code",
      "metadata": {
        "id": "w4OQZ36fmUvz",
        "colab_type": "code",
        "colab": {}
      },
      "source": [
        "def logsumexp(\n",
        "    Z, #N x C\n",
        "):\n",
        "    Zmax = np.max(Z, axis=1)[:, None]\n",
        "    lse = Zmax + np.log(np.sum(np.exp(Z-Zmax), axis=1))[:, None]\n",
        "    return lse #N\n",
        "\n",
        "def softmax(\n",
        "    u, #N x C\n",
        "):\n",
        "    u_exp = np.exp(u - np.max(u, 1)[:, None])\n",
        "    return u_exp/np.sum(u_exp, axis=-1)[:, None]"
      ],
      "execution_count": 0,
      "outputs": []
    },
    {
      "cell_type": "code",
      "metadata": {
        "id": "RGvvIwkumd32",
        "colab_type": "code",
        "colab": {}
      },
      "source": [
        "class Loss():\n",
        "    def forward(self):\n",
        "        '''Vectorized loss function'''\n",
        "        pass\n",
        "    \n",
        "    def grad(self):\n",
        "        '''Vectorized derivative of loss function.'''\n",
        "        pass\n",
        "\n",
        "class SoftmaxCrossEntropyLoss(Loss):\n",
        "    def forward(self, observed, predicted):\n",
        "        nll = - np.mean(np.sum(predicted * observed, 1) - logsumexp(predicted))\n",
        "        return nll\n",
        "    def grad(self, observed, predicted):\n",
        "        return predicted - observed"
      ],
      "execution_count": 0,
      "outputs": []
    },
    {
      "cell_type": "code",
      "metadata": {
        "id": "P9F-pWv-mFBn",
        "colab_type": "code",
        "colab": {}
      },
      "source": [
        "class Activation():\n",
        "    def forward(self, input):\n",
        "        '''Vectorized activation function.'''\n",
        "        pass\n",
        "\n",
        "    def grad(self):\n",
        "        '''Vectorized derivative of activation function.'''\n",
        "        pass\n",
        "\n",
        "class Identity(Activation):\n",
        "    def forward(self, input):\n",
        "        return input\n",
        "    def grad(self, input):\n",
        "        return np.ones(len(input))\n",
        "\n",
        "class ReLU(Activation):\n",
        "    def forward(self, input):\n",
        "        return input * (input > 0)\n",
        "    def grad(self, input):\n",
        "        return (input > 0) * 1.0\n",
        "\n",
        "class Sigmoid(Activation):\n",
        "    def forward(self, input):\n",
        "        return 1 / (1 + np.exp(-input)) \n",
        "    def grad(self, input):\n",
        "        return input * (1 - input)"
      ],
      "execution_count": 0,
      "outputs": []
    },
    {
      "cell_type": "code",
      "metadata": {
        "id": "X78W7vznmBCD",
        "colab_type": "code",
        "colab": {}
      },
      "source": [
        "class Layer():\n",
        "    def __init__(self, input_size, output_size, activation=None, weights=None, bias=None):\n",
        "        if weights is not None:\n",
        "            self.weights = weights\n",
        "        else:\n",
        "            self.weights = np.random.rand(input_size, output_size)\n",
        "        \n",
        "        if bias is not None:\n",
        "            self.bias = bias\n",
        "        else:\n",
        "            self.bias = np.random.rand(output_size)\n",
        "        \n",
        "        if activation is not None:\n",
        "            self.activation = activation\n",
        "        else:\n",
        "            self.activation = Identity()\n",
        "    \n",
        "    def compute(self, input):\n",
        "        weighted_input = np.dot(input, self.weights)\n",
        "        q = weighted_input + self.bias\n",
        "        z = self.activation.forward(q)\n",
        "        self.output = z\n",
        "        return self.output"
      ],
      "execution_count": 0,
      "outputs": []
    },
    {
      "cell_type": "code",
      "metadata": {
        "id": "1hGr_M9A6Lvj",
        "colab_type": "code",
        "colab": {}
      },
      "source": [
        "def iterate_minibatches(inputs, targets, batchsize, shuffle=True):\n",
        "    assert inputs.shape[0] == targets.shape[0]\n",
        "    if shuffle:\n",
        "        indices = np.arange(inputs.shape[0])\n",
        "        np.random.shuffle(indices)\n",
        "    for start_idx in range(0, inputs.shape[0] - batchsize + 1, batchsize):\n",
        "        if shuffle:\n",
        "            excerpt = indices[start_idx:start_idx + batchsize]\n",
        "        else:\n",
        "            excerpt = slice(start_idx, start_idx + batchsize)\n",
        "        yield inputs[excerpt], targets[excerpt]"
      ],
      "execution_count": 0,
      "outputs": []
    },
    {
      "cell_type": "code",
      "metadata": {
        "id": "vgdQqGG0l87D",
        "colab_type": "code",
        "colab": {}
      },
      "source": [
        "import numpy as np\n",
        "import random\n",
        "from copy import deepcopy\n",
        "\n",
        "class NN():\n",
        "    \n",
        "    def __init__(self):\n",
        "        self._layers = []\n",
        "\n",
        "    def add_layer(self, layer):\n",
        "        self._layers.append(layer)\n",
        "\n",
        "    def forward(self, X):\n",
        "        # Feed forward through all layers\n",
        "        for layer in self._layers:\n",
        "            X = layer.compute(X)\n",
        "        return X\n",
        "\n",
        "    def backward(self, X, y, learning_rate, loss):\n",
        "\n",
        "        # Output from feed forward\n",
        "        output = self.forward(X)\n",
        "\n",
        "        N, D = X.shape\n",
        "\n",
        "        # Store gradients\n",
        "        gradients = []\n",
        "\n",
        "        # Loop through layers in reverse order\n",
        "        for i in reversed(range(len(self._layers))):\n",
        "            # Set current layer\n",
        "            layer = self._layers[i]\n",
        "\n",
        "            input = np.atleast_2d(X if i == 0 else self._layers[i - 1].output)\n",
        "            \n",
        "            # If current layer is the output layer\n",
        "            if layer == self._layers[-1]:\n",
        "                dZ = loss.grad(y, output)\n",
        "                gradients.append(np.dot(input.T, dZ) / N)\n",
        "            else:\n",
        "                next_layer = self._layers[i + 1]    # Next layer relative to current layer\n",
        "            \n",
        "                dA = np.dot(dZ, next_layer.weights.T)\n",
        "                dZ = layer.activation.grad(layer.output) * dA\n",
        "                gradients.append(np.dot(input.T, dZ) / N)\n",
        "\n",
        "        # Update weights\n",
        "        for i in reversed(range(len(self._layers))):\n",
        "            self._layers[i].weights -= learning_rate * gradients[len(self._layers) - 1 - i]\n",
        "\n",
        "    def train(self, X, y, learning_rate, max_epochs, loss, batch_size=10, print_every=20, patience=10):\n",
        "\n",
        "        global accuracies, losses\n",
        "\n",
        "        best_net_temp = NN()\n",
        "\n",
        "        best_valid_loss = float('inf')\n",
        "        best_valid_epoch = 0\n",
        "        patience_count = 0\n",
        "\n",
        "        for epoch in range(max_epochs):\n",
        "            for i, mini_batch in enumerate(iterate_minibatches(X, y, batch_size)):\n",
        "                data, labels = mini_batch\n",
        "                self.backward(data, labels, learning_rate, loss)\n",
        "                # if i % print_every == 0:\n",
        "                    # loss_value = loss.forward(y, self.forward(X))\n",
        "                    # losses.append(loss_value)\n",
        "                    # print('[%2d,%4d] loss: %f' % (epoch + 1, i + 1, float(loss_value)))\n",
        "\n",
        "            # Calculate train, valid, test accuracies at end of each epoch\n",
        "            train_acc = np.mean(mlp.predict(X_train) == y_train_labels.numpy())\n",
        "            valid_acc = np.mean(mlp.predict(X_valid) == y_valid_labels.numpy())\n",
        "            test_acc = np.mean(mlp.predict(X_test) == y_test_labels.numpy())\n",
        "\n",
        "            train_loss = float(loss.forward(y_train, self.forward(X_train)))\n",
        "            valid_loss = float(loss.forward(y_valid, self.forward(X_valid)))\n",
        "            test_loss = float(loss.forward(y_test, self.forward(X_test)))\n",
        "\n",
        "\n",
        "            accuracies.append([train_acc, valid_acc, test_acc])\n",
        "            losses.append([train_loss, valid_loss, test_loss])\n",
        "\n",
        "            print('[%3d, %4d]    train_acc: %2.3f  valid_acc: %2.3f  test_acc: %2.3f    train_loss: %1.3f  valid_loss: %1.3f  test_loss: %1.3f' %\n",
        "                  (epoch + 1, i + 1, train_acc, valid_acc, test_acc, train_loss, valid_loss, test_loss))\n",
        "\n",
        "            # increment patience counter\n",
        "            patience_count += 1\n",
        "\n",
        "            # update snapshot of model that achieves best validation loss\n",
        "            if valid_loss < best_valid_loss:\n",
        "\n",
        "                # model found with better validation accuracy\n",
        "                best_net_temp = deepcopy(self)\n",
        "\n",
        "                # reset patience counter\n",
        "                patience_count = 0\n",
        "            \n",
        "            # reached early stopping point (no improvement of valid loss after [patience] number of epochs)\n",
        "            if patience_count >= patience:\n",
        "\n",
        "                print('Stopped Early')\n",
        "                print('Model reverted to snapshot after epoch {} that achieved lowest validation loss at {}'.format(best_valid_epoch, best_valid_loss))\n",
        "\n",
        "                return best_net_temp\n",
        "        return best_net_temp\n",
        "\n",
        "    def predict(self, X):\n",
        "        output = self.forward(X)\n",
        "        return np.argmax(output, axis=1)"
      ],
      "execution_count": 0,
      "outputs": []
    },
    {
      "cell_type": "markdown",
      "metadata": {
        "id": "uzz5PCcfYa0-",
        "colab_type": "text"
      },
      "source": [
        "### Model training"
      ]
    },
    {
      "cell_type": "code",
      "metadata": {
        "id": "pVXy0VItGp5Q",
        "colab_type": "code",
        "colab": {}
      },
      "source": [
        "def XavierInitialization(input_size, output_size):\n",
        "    return np.random.uniform(-math.sqrt(6. / (input_size + output_size)), math.sqrt(6. / (input_size + output_size)), (input_size, output_size))"
      ],
      "execution_count": 0,
      "outputs": []
    },
    {
      "cell_type": "code",
      "metadata": {
        "id": "5W3V5KzOnHhi",
        "colab_type": "code",
        "colab": {}
      },
      "source": [
        "mlp = NN()\n",
        "\n",
        "# Model used for testing transforms\n",
        "# mlp.add_layer(Layer(3072, 1024, ReLU(), weights=np.random.uniform(-math.sqrt(6. / (3072 + 1024)), math.sqrt(6. / (3072 + 1024)), (3072, 1024))))\n",
        "# mlp.add_layer(Layer(1024, 128, ReLU(), weights=np.random.uniform(-math.sqrt(6. / (1024 + 128)), math.sqrt(6. / (1024 + 128)), (1024, 128))))\n",
        "# mlp.add_layer(Layer(128, 10, ReLU(), weights=np.random.uniform(-math.sqrt(6. / (128 + 10)), math.sqrt(6. / (128 + 10)), (128, 10))))\n",
        "\n",
        "# Final model (best model)\n",
        "mlp.add_layer(Layer(3072, 1024, ReLU(), weights=XavierInitialization(3072, 1024)))\n",
        "mlp.add_layer(Layer(1024, 512, ReLU(), weights=XavierInitialization(1024, 512)))\n",
        "mlp.add_layer(Layer(512, 512, ReLU(), weights=XavierInitialization(512, 512)))\n",
        "mlp.add_layer(Layer(512, 10, ReLU(), weights=XavierInitialization(512, 10)))"
      ],
      "execution_count": 0,
      "outputs": []
    },
    {
      "cell_type": "code",
      "metadata": {
        "id": "8BcEdUIdoa3W",
        "colab_type": "code",
        "outputId": "835024ca-761f-4a20-903d-b71dc017fa44",
        "colab": {
          "base_uri": "https://localhost:8080/",
          "height": 51
        }
      },
      "source": [
        "print(X_train.shape)\n",
        "print(y_train.shape)"
      ],
      "execution_count": 0,
      "outputs": [
        {
          "output_type": "stream",
          "text": [
            "(40000, 3072)\n",
            "(40000, 10)\n"
          ],
          "name": "stdout"
        }
      ]
    },
    {
      "cell_type": "code",
      "metadata": {
        "id": "HqxTQhX1qNBm",
        "colab_type": "code",
        "colab": {}
      },
      "source": [
        "accuracies = []\n",
        "losses = []\n",
        "\n",
        "loss = SoftmaxCrossEntropyLoss()\n",
        "\n",
        "# Calculate train, valid, test accuracies at end of each epoch\n",
        "train_acc = np.mean(mlp.predict(X_train) == y_train_labels.numpy())\n",
        "valid_acc = np.mean(mlp.predict(X_valid) == y_valid_labels.numpy())\n",
        "test_acc = np.mean(mlp.predict(X_test) == y_test_labels.numpy())\n",
        "\n",
        "train_loss = float(loss.forward(y_train, mlp.forward(X_train)))\n",
        "valid_loss = float(loss.forward(y_valid, mlp.forward(X_valid)))\n",
        "test_loss = float(loss.forward(y_test, mlp.forward(X_test)))\n",
        "\n",
        "\n",
        "accuracies.append([train_acc, valid_acc, test_acc])\n",
        "losses.append([train_loss, valid_loss, test_loss])"
      ],
      "execution_count": 0,
      "outputs": []
    },
    {
      "cell_type": "code",
      "metadata": {
        "id": "78spdgVpqh-f",
        "colab_type": "code",
        "outputId": "5079f59c-5f13-4366-dda8-040130431ef3",
        "colab": {
          "base_uri": "https://localhost:8080/",
          "height": 51
        }
      },
      "source": [
        "print(accuracies)\n",
        "print(losses)"
      ],
      "execution_count": 0,
      "outputs": [
        {
          "output_type": "stream",
          "text": [
            "[[0.064075, 0.0654, 0.0641]]\n",
            "[[2.7038330821282917, 2.70300220080128, 2.708346420554043]]\n"
          ],
          "name": "stdout"
        }
      ]
    },
    {
      "cell_type": "code",
      "metadata": {
        "id": "wtWH-vZkoAzK",
        "colab_type": "code",
        "outputId": "27e99f1c-5066-4afd-96c8-28c5071c7c87",
        "colab": {
          "base_uri": "https://localhost:8080/",
          "height": 527
        }
      },
      "source": [
        "best_mlp = mlp.train(X_train, y_train, 0.01, 30, SoftmaxCrossEntropyLoss(), batch_size=128)"
      ],
      "execution_count": 0,
      "outputs": [
        {
          "output_type": "stream",
          "text": [
            "[  1,  312]    train_acc: 0.396  valid_acc: 0.371  test_acc: 0.386    train_loss: 2.132  valid_loss: 2.144  test_loss: 2.140\n",
            "[  2,  312]    train_acc: 0.413  valid_acc: 0.387  test_acc: 0.389    train_loss: 2.115  valid_loss: 2.132  test_loss: 2.130\n",
            "[  3,  312]    train_acc: 0.463  valid_acc: 0.421  test_acc: 0.426    train_loss: 2.096  valid_loss: 2.119  test_loss: 2.115\n",
            "[  4,  312]    train_acc: 0.487  valid_acc: 0.436  test_acc: 0.437    train_loss: 2.085  valid_loss: 2.113  test_loss: 2.109\n",
            "[  5,  312]    train_acc: 0.508  valid_acc: 0.447  test_acc: 0.453    train_loss: 2.066  valid_loss: 2.098  test_loss: 2.094\n",
            "[  6,  312]    train_acc: 0.525  valid_acc: 0.453  test_acc: 0.457    train_loss: 2.066  valid_loss: 2.102  test_loss: 2.099\n",
            "[  7,  312]    train_acc: 0.540  valid_acc: 0.468  test_acc: 0.466    train_loss: 2.054  valid_loss: 2.093  test_loss: 2.089\n",
            "[  8,  312]    train_acc: 0.547  valid_acc: 0.465  test_acc: 0.468    train_loss: 2.042  valid_loss: 2.085  test_loss: 2.081\n",
            "[  9,  312]    train_acc: 0.560  valid_acc: 0.468  test_acc: 0.470    train_loss: 2.039  valid_loss: 2.085  test_loss: 2.082\n",
            "[ 10,  312]    train_acc: 0.551  valid_acc: 0.455  test_acc: 0.459    train_loss: 2.038  valid_loss: 2.088  test_loss: 2.084\n",
            "[ 11,  312]    train_acc: 0.595  valid_acc: 0.482  test_acc: 0.482    train_loss: 2.024  valid_loss: 2.079  test_loss: 2.075\n",
            "[ 12,  312]    train_acc: 0.593  valid_acc: 0.482  test_acc: 0.479    train_loss: 2.016  valid_loss: 2.074  test_loss: 2.070\n",
            "[ 13,  312]    train_acc: 0.606  valid_acc: 0.487  test_acc: 0.487    train_loss: 2.012  valid_loss: 2.073  test_loss: 2.070\n",
            "[ 14,  312]    train_acc: 0.618  valid_acc: 0.488  test_acc: 0.489    train_loss: 1.998  valid_loss: 2.063  test_loss: 2.060\n",
            "[ 15,  312]    train_acc: 0.631  valid_acc: 0.496  test_acc: 0.497    train_loss: 1.993  valid_loss: 2.062  test_loss: 2.058\n",
            "[ 16,  312]    train_acc: 0.635  valid_acc: 0.495  test_acc: 0.497    train_loss: 1.990  valid_loss: 2.062  test_loss: 2.059\n",
            "[ 17,  312]    train_acc: 0.640  valid_acc: 0.492  test_acc: 0.494    train_loss: 1.988  valid_loss: 2.063  test_loss: 2.060\n",
            "[ 18,  312]    train_acc: 0.650  valid_acc: 0.498  test_acc: 0.497    train_loss: 1.978  valid_loss: 2.058  test_loss: 2.054\n",
            "[ 19,  312]    train_acc: 0.663  valid_acc: 0.502  test_acc: 0.500    train_loss: 1.969  valid_loss: 2.052  test_loss: 2.048\n",
            "[ 20,  312]    train_acc: 0.658  valid_acc: 0.502  test_acc: 0.493    train_loss: 1.960  valid_loss: 2.047  test_loss: 2.045\n",
            "[ 21,  312]    train_acc: 0.672  valid_acc: 0.496  test_acc: 0.497    train_loss: 1.960  valid_loss: 2.050  test_loss: 2.047\n",
            "[ 22,  312]    train_acc: 0.687  valid_acc: 0.504  test_acc: 0.500    train_loss: 1.953  valid_loss: 2.047  test_loss: 2.045\n",
            "[ 23,  312]    train_acc: 0.695  valid_acc: 0.508  test_acc: 0.500    train_loss: 1.952  valid_loss: 2.049  test_loss: 2.046\n",
            "[ 24,  312]    train_acc: 0.704  valid_acc: 0.512  test_acc: 0.505    train_loss: 1.944  valid_loss: 2.045  test_loss: 2.043\n",
            "[ 25,  312]    train_acc: 0.709  valid_acc: 0.510  test_acc: 0.501    train_loss: 1.937  valid_loss: 2.042  test_loss: 2.039\n",
            "[ 26,  312]    train_acc: 0.714  valid_acc: 0.511  test_acc: 0.505    train_loss: 1.926  valid_loss: 2.036  test_loss: 2.033\n",
            "[ 27,  312]    train_acc: 0.724  valid_acc: 0.512  test_acc: 0.509    train_loss: 1.916  valid_loss: 2.030  test_loss: 2.028\n",
            "[ 28,  312]    train_acc: 0.737  valid_acc: 0.514  test_acc: 0.508    train_loss: 1.921  valid_loss: 2.038  test_loss: 2.036\n",
            "[ 29,  312]    train_acc: 0.722  valid_acc: 0.500  test_acc: 0.506    train_loss: 1.912  valid_loss: 2.032  test_loss: 2.030\n",
            "[ 30,  312]    train_acc: 0.746  valid_acc: 0.509  test_acc: 0.509    train_loss: 1.910  valid_loss: 2.034  test_loss: 2.033\n"
          ],
          "name": "stdout"
        }
      ]
    },
    {
      "cell_type": "markdown",
      "metadata": {
        "id": "M2CCMJXVYg8A",
        "colab_type": "text"
      },
      "source": [
        "### Model evaluation"
      ]
    },
    {
      "cell_type": "markdown",
      "metadata": {
        "id": "9uTqVmvTwMzJ",
        "colab_type": "text"
      },
      "source": [
        "Test accuracy"
      ]
    },
    {
      "cell_type": "code",
      "metadata": {
        "id": "xvDZjQSeYNQf",
        "colab_type": "code",
        "outputId": "abc65195-0979-4e5d-ac16-5e4d0e8cea66",
        "colab": {
          "base_uri": "https://localhost:8080/",
          "height": 34
        }
      },
      "source": [
        "np.mean(best_mlp.predict(X_test) == y_test_labels.numpy())"
      ],
      "execution_count": 0,
      "outputs": [
        {
          "output_type": "execute_result",
          "data": {
            "text/plain": [
              "0.5086"
            ]
          },
          "metadata": {
            "tags": []
          },
          "execution_count": 93
        }
      ]
    },
    {
      "cell_type": "markdown",
      "metadata": {
        "colab_type": "text",
        "id": "HdNjA6_kwHe5"
      },
      "source": [
        "Plot accuracies"
      ]
    },
    {
      "cell_type": "code",
      "metadata": {
        "colab_type": "code",
        "outputId": "8b400f4d-4dd6-4ea2-ad88-14d39e5c8d53",
        "id": "BW_IxAWpwHe6",
        "colab": {
          "base_uri": "https://localhost:8080/",
          "height": 310
        }
      },
      "source": [
        "with sns.axes_style('darkgrid'):\n",
        "    sns.set_palette('muted')\n",
        "    plt.title('MLP training, validation, and test accuracies on CIFAR10\\n(no augmentation on training data)')\n",
        "    plt.ylabel('accuracies')\n",
        "    plt.xlabel('epochs')\n",
        "    plt.plot(accuracies)\n",
        "    plt.legend(['train', 'validation', 'test'])\n",
        "\n",
        "    plt.show()\n",
        "    # plt.savefig('accuracies.png')"
      ],
      "execution_count": 0,
      "outputs": [
        {
          "output_type": "display_data",
          "data": {
            "image/png": "[encoded data removed]",
            "text/plain": [
              "<Figure size 432x288 with 1 Axes>"
            ]
          },
          "metadata": {
            "tags": []
          }
        }
      ]
    },
    {
      "cell_type": "markdown",
      "metadata": {
        "colab_type": "text",
        "id": "0ydBiiPmwHe-"
      },
      "source": [
        "Plot losses"
      ]
    },
    {
      "cell_type": "code",
      "metadata": {
        "colab_type": "code",
        "outputId": "82e18393-0db8-40dc-dc12-08d2c17ffc55",
        "id": "sIDFp58JwHe_",
        "colab": {
          "base_uri": "https://localhost:8080/",
          "height": 310
        }
      },
      "source": [
        "with sns.axes_style('darkgrid'):\n",
        "    plt.title('MLP training, validation, and test losses on CIFAR10\\n(no augmentation on training data)')\n",
        "    plt.ylabel('losses')\n",
        "    plt.xlabel('epochs')\n",
        "    plt.plot(losses)\n",
        "    plt.legend(['train', 'validation', 'test'])\n",
        "\n",
        "    plt.show()\n",
        "    # plt.savefig('losses.png')"
      ],
      "execution_count": 0,
      "outputs": [
        {
          "output_type": "display_data",
          "data": {
            "image/png": "[encoded data removed]",
            "text/plain": [
              "<Figure size 432x288 with 1 Axes>"
            ]
          },
          "metadata": {
            "tags": []
          }
        }
      ]
    },
    {
      "cell_type": "code",
      "metadata": {
        "id": "TI-JP8DGAr2A",
        "colab_type": "code",
        "colab": {}
      },
      "source": [
        ""
      ],
      "execution_count": 0,
      "outputs": []
    }
  ]
}